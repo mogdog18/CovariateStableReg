{
 "cells": [
  {
   "cell_type": "code",
   "execution_count": 225,
   "metadata": {},
   "outputs": [],
   "source": [
    "using CSV, DataFrames, Statistics, Random, Plots, JuMP, Gurobi"
   ]
  },
  {
   "cell_type": "code",
   "execution_count": 404,
   "metadata": {},
   "outputs": [],
   "source": [
    "X1= CSV.read(\"X_train\", header=false, DataFrame); \n",
    "y1= CSV.read(\"y_train\", header=false,DataFrame); \n",
    "\n",
    "# (train_X, train_y), (test_X, test_y) =\n",
    "#     IAI.split_data(:regression, X1, [Array(y1)[i] for i in 1:nrow(X1)], train_proportion=0.7);\n",
    "split = 800\n",
    "train_X = DataFrame(X1[1:split, :])\n",
    "train_y = permutedims(DataFrame(y1[:, 1:split]))\n",
    "test_X = DataFrame(X1[split + 1:end, :])\n",
    "test_y = permutedims(DataFrame(y1[:, split + 1:end]))\n",
    "\n",
    "X2 = CSV.read(\"X_test\", header=false, DataFrame); \n",
    "y2 = permutedims(CSV.read(\"y_test\", header=false, DataFrame)); \n",
    "weights = permutedims(CSV.read(\"y_test\", header=false, DataFrame)[:,1:split]); "
   ]
  },
  {
   "cell_type": "markdown",
   "metadata": {},
   "source": [
    "## split train into train and val\n"
   ]
  },
  {
   "cell_type": "code",
   "execution_count": 377,
   "metadata": {},
   "outputs": [
    {
     "data": {
      "text/plain": [
       "0.001"
      ]
     },
     "execution_count": 377,
     "metadata": {},
     "output_type": "execute_result"
    }
   ],
   "source": [
    "n = nrow(train_X)\n",
    "p = ncol(train_X)\n",
    "train_fraction = 0.8\n",
    "k = n * train_fraction\n",
    "lambda = 0.001"
   ]
  },
  {
   "cell_type": "code",
   "execution_count": 378,
   "metadata": {},
   "outputs": [
    {
     "data": {
      "text/plain": [
       "opt_split (generic function with 2 methods)"
      ]
     },
     "execution_count": 378,
     "metadata": {},
     "output_type": "execute_result"
    }
   ],
   "source": [
    "function opt_split(X, y, n, p, k, lambda, weight = nothing)\n",
    "\n",
    "    model = Model(Gurobi.Optimizer)\n",
    "    set_optimizer_attribute(model, \"OutputFlag\", 0)\n",
    "\n",
    "    @variable(model, theta)\n",
    "    @variable(model, u[1:n] >= 0)\n",
    "    @variable(model, beta[1:p])\n",
    "    @variable(model, w[1:p])\n",
    "\n",
    "    @objective(model, Min, k * theta + sum(u) + lambda * sum(w))\n",
    "\n",
    "    for i in 1:p\n",
    "        @constraint(model, w[i] >= beta[i])\n",
    "        @constraint(model, w[i] >= -beta[i])\n",
    "    end \n",
    "\n",
    "    for i in 1:n\n",
    "        if weight == nothing\n",
    "            @constraint(model, theta + u[i] >= y[i] - sum(X[i, :].*beta))\n",
    "            @constraint(model, theta + u[i] >= -(y[i] - sum(X[i, :].*beta)))\n",
    "        else \n",
    "            @constraint(model, theta + u[i] >=  weight[i] * (y[i] - sum(X[i, :].*beta)))\n",
    "            @constraint(model, theta + u[i] >= - weight[i] * (y[i] - sum(X[i, :].*beta)))\n",
    "        end \n",
    "    end\n",
    "    \n",
    "    optimize!(model)\n",
    "\n",
    "    return value(theta), value.(u), value.(beta), value.(w)\n",
    "end"
   ]
  },
  {
   "cell_type": "code",
   "execution_count": 410,
   "metadata": {},
   "outputs": [
    {
     "data": {
      "text/plain": [
       "split_train_val (generic function with 3 methods)"
      ]
     },
     "execution_count": 410,
     "metadata": {},
     "output_type": "execute_result"
    }
   ],
   "source": [
    "function split_train_val(X, y, beta_star, train_fraction = 0.8, weights = nothing)\n",
    "    \n",
    "    residuals = y - X * beta_star\n",
    "\n",
    "    if weights == nothing\n",
    "        sorted_indices = sortperm(abs.(residuals), rev=true, dims = 1)\n",
    "    else \n",
    "        residuals_weights = [residuals[i] * weights[i] for i in 1:length(weights)]\n",
    "        sorted_indices = sortperm(abs.(residuals_weights), rev=true)\n",
    "    end\n",
    "\n",
    "    num_train_points = round(Int, train_fraction * length(sorted_indices))\n",
    "\n",
    "    train_indices = sorted_indices[1:num_train_points]\n",
    "\n",
    "    val_indices = setdiff(1:length(y), train_indices)\n",
    "\n",
    "    X_train = X[train_indices,:]\n",
    "    y_train = y[train_indices,:]\n",
    "\n",
    "    X_val = X[val_indices,:]\n",
    "    y_val = y[val_indices,:]\n",
    "\n",
    "    return X_train, y_train, X_val, y_val\n",
    "end\n"
   ]
  },
  {
   "cell_type": "code",
   "execution_count": 389,
   "metadata": {},
   "outputs": [
    {
     "name": "stdout",
     "output_type": "stream",
     "text": [
      "Set parameter Username\n",
      "Academic license - for non-commercial use only - expires 2024-09-11\n"
     ]
    }
   ],
   "source": [
    "#optimised split \n",
    "_, _, betas_star, _ = opt_split(Array(train_X), Array(train_y), n, p, k, lambda)\n",
    "X_train_opt, y_train_opt, X_val_opt, y_val_opt= split_train_val(Array(train_X), Array(train_y), betas_star)\n",
    "\n",
    "#non optimised split \n",
    "(X_train, y_train), (X_val, y_val) =\n",
    "    IAI.split_data(:regression, train_X, [Array(train_y)[i] for i in 1:nrow(train_X)], train_proportion=0.8);"
   ]
  },
  {
   "cell_type": "code",
   "execution_count": 390,
   "metadata": {},
   "outputs": [
    {
     "name": "stderr",
     "output_type": "stream",
     "text": [
      "WARNING: redefinition of constant LinearRegression. This may fail, cause incorrect answers, or produce other errors.\n",
      "\u001b[33m\u001b[1m┌ \u001b[22m\u001b[39m\u001b[33m\u001b[1mWarning: \u001b[22m\u001b[39mModule model_selection has been ported to Julia - try `import ScikitLearn: CrossValidation` instead\n",
      "\u001b[33m\u001b[1m└ \u001b[22m\u001b[39m\u001b[90m@ ScikitLearn.Skcore ~/.julia/packages/ScikitLearn/sqLdT/src/Skcore.jl:259\u001b[39m\n",
      "WARNING: redefinition of constant train_test_split. This may fail, cause incorrect answers, or produce other errors.\n"
     ]
    },
    {
     "data": {
      "text/plain": [
       "PyObject <function train_test_split at 0x2c750dea0>"
      ]
     },
     "execution_count": 390,
     "metadata": {},
     "output_type": "execute_result"
    }
   ],
   "source": [
    "using ScikitLearn\n",
    "@sk_import linear_model: LinearRegression\n",
    "@sk_import model_selection: train_test_split\n"
   ]
  },
  {
   "cell_type": "code",
   "execution_count": 391,
   "metadata": {},
   "outputs": [
    {
     "data": {
      "text/plain": [
       "mse (generic function with 1 method)"
      ]
     },
     "execution_count": 391,
     "metadata": {},
     "output_type": "execute_result"
    }
   ],
   "source": [
    "function mse(y_true, y_pred)\n",
    "    mse = mean((y_true .- y_pred).^2)\n",
    "    return mse\n",
    "end\n"
   ]
  },
  {
   "cell_type": "code",
   "execution_count": 398,
   "metadata": {},
   "outputs": [
    {
     "name": "stdout",
     "output_type": "stream",
     "text": [
      "val score: 0.005515166992537046\n",
      "test score: 0.005961225192939648\n"
     ]
    }
   ],
   "source": [
    "model_opt = LinearRegression()\n",
    "fit!(model_opt, X_train_opt, y_train_opt)\n",
    "y_pred_val_opt = predict(model_opt, X_val_opt)\n",
    "y_pred_test_opt = predict(model_opt, Matrix(test_X))\n",
    "println(\"val score: \", mse(y_val_opt, y_pred_val_opt))\n",
    "println(\"test score: \", mse(Array(test_y), y_pred_test_opt))"
   ]
  },
  {
   "cell_type": "code",
   "execution_count": 399,
   "metadata": {},
   "outputs": [
    {
     "name": "stdout",
     "output_type": "stream",
     "text": [
      "val score: 0.00528208518066815\n",
      "test score: 0.005869018814113406\n"
     ]
    }
   ],
   "source": [
    "model = LinearRegression()\n",
    "fit!(model, Matrix(X_train), Array(y_train))\n",
    "y_pred_val = predict(model, Matrix(X_val))\n",
    "y_pred_test = predict(model, Matrix(test_X))\n",
    "println(\"val score: \", mse(y_val, y_pred_val))\n",
    "println(\"test score: \", mse(Array(test_y), y_pred_test))"
   ]
  },
  {
   "cell_type": "markdown",
   "metadata": {},
   "source": [
    "## try with weights"
   ]
  },
  {
   "cell_type": "code",
   "execution_count": 412,
   "metadata": {},
   "outputs": [
    {
     "name": "stdout",
     "output_type": "stream",
     "text": [
      "Set parameter Username\n",
      "Academic license - for non-commercial use only - expires 2024-09-11\n"
     ]
    }
   ],
   "source": [
    "#optimised split \n",
    "_, _, betas_star, _ = opt_split(Array(train_X), Array(train_y), n, p, k, lambda, Matrix(weights))\n",
    "X_train_opt, y_train_opt, X_val_opt, y_val_opt= split_train_val(Array(train_X), Array(train_y), betas_star, 0.8, Matrix(weights))\n",
    "\n",
    "#non optimised split \n",
    "(X_train, y_train), (X_val, y_val) =\n",
    "    IAI.split_data(:regression, train_X, [Array(train_y)[i] for i in 1:nrow(train_X)], train_proportion=0.8);"
   ]
  },
  {
   "cell_type": "code",
   "execution_count": 413,
   "metadata": {},
   "outputs": [
    {
     "name": "stdout",
     "output_type": "stream",
     "text": [
      "val score: 0.005703388444933003\n",
      "test score: 0.005958287219605079\n"
     ]
    }
   ],
   "source": [
    "model_opt = LinearRegression()\n",
    "fit!(model_opt, X_train_opt, y_train_opt)\n",
    "y_pred_val_opt = predict(model_opt, X_val_opt)\n",
    "y_pred_test_opt = predict(model_opt, Matrix(test_X))\n",
    "println(\"val score: \", mse(y_val_opt, y_pred_val_opt))\n",
    "println(\"test score: \", mse(Array(test_y), y_pred_test_opt))"
   ]
  },
  {
   "cell_type": "code",
   "execution_count": 414,
   "metadata": {},
   "outputs": [
    {
     "name": "stdout",
     "output_type": "stream",
     "text": [
      "val score: 0.0057961063578372465\n",
      "test score: 0.005882404456655677\n"
     ]
    }
   ],
   "source": [
    "model = LinearRegression()\n",
    "fit!(model, Matrix(X_train), Array(y_train))\n",
    "y_pred_val = predict(model, Matrix(X_val))\n",
    "y_pred_test = predict(model, Matrix(test_X))\n",
    "println(\"val score: \", mse(y_val, y_pred_val))\n",
    "println(\"test score: \", mse(Array(test_y), y_pred_test))"
   ]
  },
  {
   "cell_type": "code",
   "execution_count": null,
   "metadata": {},
   "outputs": [],
   "source": []
  }
 ],
 "metadata": {
  "kernelspec": {
   "display_name": "Julia (IAI) 4 1.9.3",
   "language": "julia",
   "name": "julia-_iai_-4-1.9"
  },
  "language_info": {
   "file_extension": ".jl",
   "mimetype": "application/julia",
   "name": "julia",
   "version": "1.9.3"
  },
  "orig_nbformat": 4
 },
 "nbformat": 4,
 "nbformat_minor": 2
}
