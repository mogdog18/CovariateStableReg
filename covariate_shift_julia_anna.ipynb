{
 "cells": [
  {
   "cell_type": "code",
   "execution_count": 120,
   "id": "0f3a4635",
   "metadata": {},
   "outputs": [
    {
     "data": {
      "text/plain": [
       "PyObject <class 'sklearn.linear_model._logistic.LogisticRegression'>"
      ]
     },
     "execution_count": 120,
     "metadata": {},
     "output_type": "execute_result"
    }
   ],
   "source": [
    "using CSV, DataFrames, Statistics, Random, Distributions, ScikitLearn\n",
    "@sk_import linear_model: LogisticRegression"
   ]
  },
  {
   "cell_type": "markdown",
   "id": "3778cfa5",
   "metadata": {},
   "source": [
    "### Util functions"
   ]
  },
  {
   "cell_type": "code",
   "execution_count": 114,
   "id": "28bb3788",
   "metadata": {},
   "outputs": [
    {
     "data": {
      "text/plain": [
       "standardize_data (generic function with 2 methods)"
      ]
     },
     "execution_count": 114,
     "metadata": {},
     "output_type": "execute_result"
    }
   ],
   "source": [
    "function standardize_data(df, df_test)\n",
    "    numerical_cols = names(df, Number)\n",
    "    mean_df = [mean(df[!, col]) for col in numerical_cols]\n",
    "    std_df = [std(df[!, col]) for col in numerical_cols]\n",
    "\n",
    "    for (col, mean_value, std_value) in zip(numerical_cols, mean_df, std_df)\n",
    "        df[!, col] = (df[!, col] .- mean_value) / std_value\n",
    "        df_test[!, col] = (df_test[!, col] .- mean_value) / std_value\n",
    "    end\n",
    "\n",
    "    return df, df_test\n",
    "end"
   ]
  },
  {
   "cell_type": "markdown",
   "id": "9cd89156",
   "metadata": {},
   "source": [
    "### Load data"
   ]
  },
  {
   "cell_type": "code",
   "execution_count": 92,
   "id": "f0de5f3f",
   "metadata": {},
   "outputs": [],
   "source": [
    "dataset = CSV.read(\"data/abalone/abalone_original.csv\", DataFrame);\n",
    "y = dataset[:, \"rings\"];\n",
    "\n",
    "categorical_var = [\"sex\", \"rings\"]\n",
    "dataset_numerical = select!(dataset, Not(categorical_var))\n",
    "X_normalized = standardize_data(dataset_numerical);"
   ]
  },
  {
   "cell_type": "markdown",
   "id": "da9a8a97",
   "metadata": {},
   "source": [
    "### Covariate shift"
   ]
  },
  {
   "cell_type": "markdown",
   "id": "9b3882f6",
   "metadata": {},
   "source": [
    "- think about the shift values more\n",
    "- abalone original has been normalized"
   ]
  },
  {
   "cell_type": "code",
   "execution_count": 99,
   "id": "85d666f8",
   "metadata": {},
   "outputs": [
    {
     "data": {
      "text/plain": [
       "shift_dataset (generic function with 4 methods)"
      ]
     },
     "execution_count": 99,
     "metadata": {},
     "output_type": "execute_result"
    }
   ],
   "source": [
    "function shift_dataset(df, features_to_shift, shift_type=\"normal\",seed_value=123)\n",
    "    mean_df = [mean(df[!, col]) for col in features_to_shift]\n",
    "    std_df = [std(df[!, col]) for col in features_to_shift]\n",
    "    \n",
    "    df_shifted = copy(df)\n",
    "    column_indices = [findfirst(isequal(col), names(df)) for col in features_to_shift]\n",
    "        \n",
    "    Random.seed!(seed_value)\n",
    "    \n",
    "    if shift_type == \"normal\"\n",
    "        dist = MvNormal(mean_df, std_df)\n",
    "    else shift_type == \"uniform\"\n",
    "        dist = Uniform(0, 1)\n",
    "    end\n",
    "            \n",
    "    shift_values = Array(rand(d, (size(df, 1), length(features_to_shift))))\n",
    "    \n",
    "    for i in 1:size(df, 1)\n",
    "        for j in 1:length(features_to_shift)\n",
    "            df_shifted[i, j] += shift_values[i, j]\n",
    "        end\n",
    "    end\n",
    "        \n",
    "    return df_shifted\n",
    "end"
   ]
  },
  {
   "cell_type": "code",
   "execution_count": 101,
   "id": "ee1b6dfc",
   "metadata": {},
   "outputs": [],
   "source": [
    "features_to_shift = [\"length\", \"diameter\", \"height\", \"whole-weight\", \"shucked-weight\", \"viscera-weight\", \"shell-weight\"]\n",
    "X_shifted = shift_dataset(X_normalized, features_to_shift, \"normal\");"
   ]
  },
  {
   "cell_type": "markdown",
   "id": "546fe766",
   "metadata": {},
   "source": [
    "### Split data into train & set"
   ]
  },
  {
   "cell_type": "code",
   "execution_count": 109,
   "id": "9a2b295b",
   "metadata": {},
   "outputs": [
    {
     "data": {
      "text/plain": [
       "split_data (generic function with 1 method)"
      ]
     },
     "execution_count": 109,
     "metadata": {},
     "output_type": "execute_result"
    }
   ],
   "source": [
    "function split_data(X, X_shifted, y, train_test_split)\n",
    "    num_train_indices = round(Int, train_test_split*size(X, 1))\n",
    "        \n",
    "    train_indices = randperm(size(X, 1))[1:num_train_indices]\n",
    "    test_indices = setdiff(1:size(X, 1), train_indices)\n",
    "    \n",
    "    X_train, y_train = X[train_indices, :], y[train_indices]\n",
    "    X_test, y_test = X_shifted[test_indices, :], y[test_indices]\n",
    "    \n",
    "    return X_train, y_train, X_test, y_test\n",
    "end"
   ]
  },
  {
   "cell_type": "code",
   "execution_count": 113,
   "id": "a9d7c638",
   "metadata": {},
   "outputs": [],
   "source": [
    "X_train, y_train, X_test, y_test = split_data(dataset_numerical, X_shifted, y, 0.8);"
   ]
  },
  {
   "cell_type": "markdown",
   "id": "12453491",
   "metadata": {},
   "source": [
    "### Normalize data"
   ]
  },
  {
   "cell_type": "code",
   "execution_count": null,
   "id": "4cb43e68",
   "metadata": {},
   "outputs": [],
   "source": [
    "X_train_norm, X_test_norm = standardize_data(X_train, X_test)"
   ]
  },
  {
   "cell_type": "markdown",
   "id": "3e6cd978",
   "metadata": {},
   "source": [
    "### Calculate covariate weights"
   ]
  },
  {
   "cell_type": "code",
   "execution_count": 121,
   "id": "5738c12d",
   "metadata": {},
   "outputs": [
    {
     "data": {
      "text/plain": [
       "check_accuracy (generic function with 1 method)"
      ]
     },
     "execution_count": 121,
     "metadata": {},
     "output_type": "execute_result"
    }
   ],
   "source": [
    "function check_accuracy(y_pred, y_true)\n",
    "    accuracy = sum(y_pred .== y_true) / length(y_true)\n",
    "    println(\"Accuracy: $accuracy\")\n",
    "end"
   ]
  },
  {
   "cell_type": "code",
   "execution_count": null,
   "id": "1c068870",
   "metadata": {},
   "outputs": [],
   "source": [
    "X_combined = vcat(X, X2)\n",
    "y_combined = vcat(zeros(size(X1, 1)), ones(size(X2, 1)))\n",
    "    \n",
    "lr = LogisticRegression()\n",
    "fit!(lr, X_combined, y_combined)"
   ]
  },
  {
   "cell_type": "code",
   "execution_count": null,
   "id": "f494a186",
   "metadata": {},
   "outputs": [],
   "source": [
    "function covariate_weights(X1, X2)\n",
    "    X_combined = vcat(X1, X2)\n",
    "    y_combined = vcat(zeros(size(X1, 1)), ones(size(X2, 1)))\n",
    "    \n",
    "    lr = LogisticRegression()\n",
    "    fit!(lr, X_combined, y_combined)\n",
    "    \n",
    "    y_pred_combined = predict(lr, X_combined)\n",
    "    check_accuracy(y_pred_combined, y_combined)\n",
    "    y_pred_combined_prob = predict_proba(lr, X1)\n",
    "    weights = y_pred_combined_prob[:, 2] ./ y_pred_combined_prob[:, 1]\n",
    "    \n",
    "    return weights"
   ]
  },
  {
   "cell_type": "code",
   "execution_count": 116,
   "id": "01e10cb2",
   "metadata": {},
   "outputs": [
    {
     "ename": "LoadError",
     "evalue": "UndefVarError: `LogisticClassifier` not defined",
     "output_type": "error",
     "traceback": [
      "UndefVarError: `LogisticClassifier` not defined",
      "",
      "Stacktrace:",
      " [1] covariate_weights(X1::Matrix{Float64}, X2::Matrix{Float64})",
      "   @ Main ./In[116]:9",
      " [2] top-level scope",
      "   @ In[116]:30"
     ]
    }
   ],
   "source": [
    "\n",
    "    \n",
    "    y_pred_combined = predict(lr, X_combined)\n",
    "    check_accuracy(y_pred_combined, y_combined)\n",
    "    \n",
    "    y_pred_combined_prob = predict_proba(lr, X1)\n",
    "    weights = y_pred_combined_prob[:, 2] ./ y_pred_combined_prob[:, 1]\n",
    "    CSV.write(\"weights.csv\", DataFrame(weights=weights))\n",
    "    \n",
    "    return weights\n",
    "end\n",
    "\n",
    "# Example usage\n",
    "X1 = rand(5, 3)\n",
    "X2 = rand(5, 3)\n",
    "weights = covariate_weights(X1, X2)"
   ]
  },
  {
   "cell_type": "markdown",
   "id": "5fc6b02e",
   "metadata": {},
   "source": [
    "### Save arrays"
   ]
  },
  {
   "cell_type": "code",
   "execution_count": null,
   "id": "5b002e54",
   "metadata": {},
   "outputs": [],
   "source": []
  }
 ],
 "metadata": {
  "kernelspec": {
   "display_name": "Julia (IAI) 1.9.3",
   "language": "julia",
   "name": "julia-_iai_-1.9"
  },
  "language_info": {
   "file_extension": ".jl",
   "mimetype": "application/julia",
   "name": "julia",
   "version": "1.9.3"
  }
 },
 "nbformat": 4,
 "nbformat_minor": 5
}
