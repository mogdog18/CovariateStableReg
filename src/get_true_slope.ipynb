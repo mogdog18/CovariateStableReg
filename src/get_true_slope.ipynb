{
 "cells": [
  {
   "cell_type": "code",
   "execution_count": 4,
   "metadata": {},
   "outputs": [
    {
     "name": "stderr",
     "output_type": "stream",
     "text": [
      "WARNING: redefinition of constant LogisticRegression. This may fail, cause incorrect answers, or produce other errors.\n",
      "WARNING: redefinition of constant accuracy_score. This may fail, cause incorrect answers, or produce other errors.\n",
      "WARNING: redefinition of constant precision_score. This may fail, cause incorrect answers, or produce other errors.\n",
      "WARNING: redefinition of constant recall_score. This may fail, cause incorrect answers, or produce other errors.\n",
      "WARNING: Method definition f(Any) in module Main at /Users/norahallqvist/Classes/Year2/ML&Opt/project/CovariateStableReg/src/utils.jl:185 overwritten at /Users/norahallqvist/Classes/Year2/ML&Opt/project/CovariateStableReg/src/utils.jl:187.\n",
      "WARNING: redefinition of constant LogisticRegression. This may fail, cause incorrect answers, or produce other errors.\n",
      "WARNING: redefinition of constant accuracy_score. This may fail, cause incorrect answers, or produce other errors.\n",
      "WARNING: redefinition of constant precision_score. This may fail, cause incorrect answers, or produce other errors.\n",
      "WARNING: redefinition of constant recall_score. This may fail, cause incorrect answers, or produce other errors.\n",
      "WARNING: Method definition f(Any) in module Main at /Users/norahallqvist/Classes/Year2/ML&Opt/project/CovariateStableReg/src/utils.jl:185 overwritten at /Users/norahallqvist/Classes/Year2/ML&Opt/project/CovariateStableReg/src/utils.jl:187.\n"
     ]
    },
    {
     "data": {
      "text/plain": [
       "PyObject <class 'sklearn.linear_model._coordinate_descent.LassoCV'>"
      ]
     },
     "execution_count": 4,
     "metadata": {},
     "output_type": "execute_result"
    }
   ],
   "source": [
    "include(\"regressionClass.jl\");\n",
    "include(\"utils.jl\");\n",
    "\n",
    "@sk_import linear_model: LassoCV"
   ]
  },
  {
   "cell_type": "code",
   "execution_count": 13,
   "metadata": {},
   "outputs": [
    {
     "data": {
      "text/plain": [
       "(-0.7751768460509803, [0.3732543606072274])"
      ]
     },
     "execution_count": 13,
     "metadata": {},
     "output_type": "execute_result"
    }
   ],
   "source": [
    "(_, _), (X_shifted, y_shifted) = generate_synthetic_data(500, \"1\", 123)\n",
    "reg = LassoCV(cv=5, alphas = [0.00001, 0.0001, 0.001, 0.01, 0.1], random_state=0).fit(Matrix(X_shifted), y_shifted)\n",
    "reg.intercept_, reg.coef_\n"
   ]
  },
  {
   "cell_type": "code",
   "execution_count": 14,
   "metadata": {},
   "outputs": [
    {
     "data": {
      "text/plain": [
       "(-0.0204511118216938, [-0.747770343556648])"
      ]
     },
     "execution_count": 14,
     "metadata": {},
     "output_type": "execute_result"
    }
   ],
   "source": [
    "(_, _), (X_shifted, y_shifted) = generate_synthetic_data(500, \"2\", 123)\n",
    "reg = LassoCV(cv=5, alphas = [0.00001, 0.0001, 0.001, 0.01, 0.1], random_state=0).fit(Matrix(X_shifted), y_shifted)\n",
    "reg.intercept_, reg.coef_\n"
   ]
  },
  {
   "cell_type": "code",
   "execution_count": null,
   "metadata": {},
   "outputs": [],
   "source": []
  }
 ],
 "metadata": {
  "kernelspec": {
   "display_name": "Julia (IAI) 4 1.9.3",
   "language": "julia",
   "name": "julia-_iai_-4-1.9"
  },
  "language_info": {
   "file_extension": ".jl",
   "mimetype": "application/julia",
   "name": "julia",
   "version": "1.9.3"
  },
  "orig_nbformat": 4,
  "vscode": {
   "interpreter": {
    "hash": "683a8f5228cdb2dfe20440e7c79750b7ef6077ddd22e2c437eb1bcaa2db9b8fb"
   }
  }
 },
 "nbformat": 4,
 "nbformat_minor": 2
}
